{
 "cells": [
  {
   "attachments": {},
   "cell_type": "markdown",
   "metadata": {},
   "source": [
    "# Ejercicios Pair Programming - Módulo 2 Sprint 2\n",
    "## Lección 2 - Limpieza II\n",
    "### Natalia García Lago y Noemi Azorín "
   ]
  },
  {
   "cell_type": "code",
   "execution_count": 56,
   "metadata": {},
   "outputs": [],
   "source": [
    "import pandas as pd \n",
    "import regex as re \n",
    "import numpy as np "
   ]
  },
  {
   "attachments": {},
   "cell_type": "markdown",
   "metadata": {},
   "source": [
    "Antes de seguir, recordamos las preguntas que nos planteamos al principio del _pair programming_ de EDA para dirigir nuestro análisis.\n",
    "\n",
    "- ¿Es Australia es el sitio más peligroso y letal para estar relajada en la playa?\n",
    "\n",
    "- ¿Cuál es el rango de edad que sufre la mayoría de los ataques?\n",
    "\n",
    "- Independientemente de la edad, sufren los hombres más ataques que las mujeres?\n",
    "\n",
    "- ¿En qué mes ocurren más ataques?\n",
    "\n",
    "- ¿Cuál es la relación entre la especie y el tipo de ataque (si es fatal o no)?\n",
    "\n",
    "- ¿Cómo han evolucionado los ataques a lo largo del tiempo?\n",
    "\n",
    "- De todo esto, nos damos cuenta que solo tenemos que limpiar algunas de las columnas, en concreto age, species, country, fatal, year, sex. Si reducimos esto a una tabla para saber que tenemos ya limpito y que no. "
   ]
  },
  {
   "attachments": {},
   "cell_type": "markdown",
   "metadata": {},
   "source": [
    "Por lo tanto, en este ejercicio nos queda por limpiar las columnas de age y species, así que manos a la obra.\n",
    "\n",
    "Vamos a ver que podemos hacer para cada una de las columnas y os dejaremos algunas pistas 😉. Para esto trabajaremos con el fichero generado en Limpieza I.\n",
    "\n",
    "1. Columna de species: si exploramos esta columna en detalle nos podemos dar cuenta que tenemos muchos valores únicos y esto hace que sea muy difícil trabajar con esta columna. Lo que vamos a hacer es clasificar los tiburones en 5 especies diferentes, las más comunes, que incluyen el tiburón blanco (White), el tiburón tigre (Tiger ), el tiburón gris (Grey), el tiburón limón (Lemon) y el tiburón toro (Bull). El resto de las especies las incluiremos en un único grupo que podremos llamar \"Unspecified\". Ahora nos podemos sentir un poco abrumadas y no saber como enfrentarnos a este reto, pero don't worry, os dejamos por aquí unas 💡 pistas 💡 para que os ayuden a entender cómo hacerlo.\n",
    "\n",
    "    - Los valores de las columnas son strings por lo que podremos usar regex para buscar palabras clave en cada celda y asignarlo a una de las categorías que hemos definido previamente.\n",
    "\n",
    "    - Tendremos que crearnos una función que aplicaremos sobre nuestra columna species para que nos devuelva una nueva columna con los valores clasificados en función de los patrones de regex que hayamos definido."
   ]
  },
  {
   "cell_type": "code",
   "execution_count": 41,
   "metadata": {},
   "outputs": [],
   "source": [
    "#Abrimos el archivo \n",
    "ataques = pd.read_csv(\"../ficheros/ataques_limpiezaI.csv\", index_col = 0)"
   ]
  },
  {
   "cell_type": "code",
   "execution_count": 42,
   "metadata": {},
   "outputs": [],
   "source": [
    "patron_blanco = \".*[Ww](hite|HITE).*\"\n",
    "patron_grey = \".*[Gg](rey|REY).*\"\n",
    "patron_lemon = \".*[Ll](emon|EMON).*\"\n",
    "patron_toro = \".*[Bb](ull|ULL).*\"\n"
   ]
  },
  {
   "cell_type": "code",
   "execution_count": 43,
   "metadata": {},
   "outputs": [],
   "source": [
    "def especies (col):\n",
    "    try:\n",
    "        if len(re.findall(patron_blanco, col)) > 0:\n",
    "            return \"Tiburón Blanco\"\n",
    "        elif len(re.findall(patron_grey, col)) > 0:\n",
    "            return \"Tiburón Gris\"\n",
    "        elif len(re.findall(patron_lemon, col)) > 0:\n",
    "            return \"Tiburón limón\"\n",
    "        elif len(re.findall(patron_toro, regex = True)) > 0:\n",
    "            return \"Tiburón toro\"\n",
    "    except:\n",
    "        return \"Unspecified\""
   ]
  },
  {
   "cell_type": "code",
   "execution_count": 44,
   "metadata": {},
   "outputs": [
    {
     "data": {
      "text/plain": [
       "Index(['case_number', 'year', 'type', 'country', 'activity', 'age', 'species_',\n",
       "       'mes', 'fatal', 'sex'],\n",
       "      dtype='object')"
      ]
     },
     "execution_count": 44,
     "metadata": {},
     "output_type": "execute_result"
    }
   ],
   "source": [
    "ataques.columns"
   ]
  },
  {
   "cell_type": "code",
   "execution_count": 46,
   "metadata": {},
   "outputs": [
    {
     "data": {
      "text/html": [
       "<div>\n",
       "<style scoped>\n",
       "    .dataframe tbody tr th:only-of-type {\n",
       "        vertical-align: middle;\n",
       "    }\n",
       "\n",
       "    .dataframe tbody tr th {\n",
       "        vertical-align: top;\n",
       "    }\n",
       "\n",
       "    .dataframe thead th {\n",
       "        text-align: right;\n",
       "    }\n",
       "</style>\n",
       "<table border=\"1\" class=\"dataframe\">\n",
       "  <thead>\n",
       "    <tr style=\"text-align: right;\">\n",
       "      <th></th>\n",
       "      <th>case_number</th>\n",
       "      <th>year</th>\n",
       "      <th>type</th>\n",
       "      <th>country</th>\n",
       "      <th>activity</th>\n",
       "      <th>age</th>\n",
       "      <th>species_</th>\n",
       "      <th>mes</th>\n",
       "      <th>fatal</th>\n",
       "      <th>sex</th>\n",
       "      <th>especies</th>\n",
       "    </tr>\n",
       "  </thead>\n",
       "  <tbody>\n",
       "    <tr>\n",
       "      <th>0</th>\n",
       "      <td>2018.06.25</td>\n",
       "      <td>2018</td>\n",
       "      <td>Boating</td>\n",
       "      <td>usa</td>\n",
       "      <td>Paddling</td>\n",
       "      <td>57</td>\n",
       "      <td>White shark</td>\n",
       "      <td>Jun</td>\n",
       "      <td>N</td>\n",
       "      <td>F</td>\n",
       "      <td>Tiburón Blanco</td>\n",
       "    </tr>\n",
       "    <tr>\n",
       "      <th>1</th>\n",
       "      <td>2018.06.03.a</td>\n",
       "      <td>2018</td>\n",
       "      <td>Unprovoked</td>\n",
       "      <td>brazil</td>\n",
       "      <td>Swimming</td>\n",
       "      <td>18</td>\n",
       "      <td>Tiger shark</td>\n",
       "      <td>Jun</td>\n",
       "      <td>Y</td>\n",
       "      <td>M</td>\n",
       "      <td>Unspecified</td>\n",
       "    </tr>\n",
       "    <tr>\n",
       "      <th>2</th>\n",
       "      <td>2018.05.26.b</td>\n",
       "      <td>2018</td>\n",
       "      <td>Unprovoked</td>\n",
       "      <td>usa</td>\n",
       "      <td>Walking</td>\n",
       "      <td>15</td>\n",
       "      <td>Bull shark, 6'</td>\n",
       "      <td>May</td>\n",
       "      <td>N</td>\n",
       "      <td>M</td>\n",
       "      <td>Unspecified</td>\n",
       "    </tr>\n",
       "    <tr>\n",
       "      <th>3</th>\n",
       "      <td>2018.05.24</td>\n",
       "      <td>2018</td>\n",
       "      <td>Provoked</td>\n",
       "      <td>australia</td>\n",
       "      <td>Feeding sharks</td>\n",
       "      <td>32</td>\n",
       "      <td>Grey reef shark</td>\n",
       "      <td>May</td>\n",
       "      <td>N</td>\n",
       "      <td>M</td>\n",
       "      <td>Tiburón Gris</td>\n",
       "    </tr>\n",
       "    <tr>\n",
       "      <th>4</th>\n",
       "      <td>2018.05.13.a</td>\n",
       "      <td>2018</td>\n",
       "      <td>Invalid</td>\n",
       "      <td>england</td>\n",
       "      <td>Fishing</td>\n",
       "      <td>21</td>\n",
       "      <td>Invalid incident</td>\n",
       "      <td>May</td>\n",
       "      <td>N</td>\n",
       "      <td>M</td>\n",
       "      <td>Unspecified</td>\n",
       "    </tr>\n",
       "  </tbody>\n",
       "</table>\n",
       "</div>"
      ],
      "text/plain": [
       "    case_number  year        type    country        activity age  \\\n",
       "0    2018.06.25  2018     Boating        usa        Paddling  57   \n",
       "1  2018.06.03.a  2018  Unprovoked     brazil        Swimming  18   \n",
       "2  2018.05.26.b  2018  Unprovoked        usa         Walking  15   \n",
       "3    2018.05.24  2018    Provoked  australia  Feeding sharks  32   \n",
       "4  2018.05.13.a  2018     Invalid    england         Fishing  21   \n",
       "\n",
       "           species_  mes fatal sex        especies  \n",
       "0       White shark  Jun     N   F  Tiburón Blanco  \n",
       "1       Tiger shark  Jun     Y   M     Unspecified  \n",
       "2    Bull shark, 6'  May     N   M     Unspecified  \n",
       "3   Grey reef shark  May     N   M    Tiburón Gris  \n",
       "4  Invalid incident  May     N   M     Unspecified  "
      ]
     },
     "execution_count": 46,
     "metadata": {},
     "output_type": "execute_result"
    }
   ],
   "source": [
    "ataques[\"especies\"] = ataques[\"species_\"].apply(especies)\n",
    "ataques.head()"
   ]
  },
  {
   "attachments": {},
   "cell_type": "markdown",
   "metadata": {},
   "source": [
    "2. Columna de age: es una columna de tipo string pero debería ser de tipo integer. Además, en esta columna nos vamos a encontrar con algunos errores tipográficos, estos incluyen:\n",
    "\n",
    "    - Edad en formato string\n",
    "    - Edades separadas por &, or, to, >\n",
    "    - Edades con ?\n",
    "\n",
    "- Vamos con algunas 💡 pistas 💡 para que os ayuden a entender cómo hacerlo:\n",
    "    - Primero tendremos que eliminar todos esos símbolos especiales que nos aparecen. De nuevo, podremos usar regex para extraer unicamente los números que es lo que nos interesa. Usar este regex en una función para sacar solo los números.\n",
    "    - Puede que os salga un error similar a este:\n",
    "    \n",
    "            TypeError: expected string or bytes-like object\n",
    "    - Para solucionar este problema, antes de nada tendréis que ejecutar este código para que no os de error:\n",
    "\n",
    "            df['nombre_columna'] = df['nombre_columna'].astype(str)\n",
    "    "
   ]
  },
  {
   "attachments": {},
   "cell_type": "markdown",
   "metadata": {},
   "source": [
    "- Una vez que hayáis extraido los números, os daréis cuenta que hay celdas que tienen más de una edad. Tendréis que decidir que hacer en esos casos. Os dejamos por aquí una posible opción usando un método de Pandas que os puede resultar super útil. El método explode, aqui.\n",
    "\n",
    "- Por último cambiad el tipo de la columna de string a integer."
   ]
  },
  {
   "cell_type": "code",
   "execution_count": 64,
   "metadata": {},
   "outputs": [],
   "source": [
    "patron_numeros = \"\\d\""
   ]
  },
  {
   "cell_type": "code",
   "execution_count": 65,
   "metadata": {},
   "outputs": [],
   "source": [
    "def años_limpios (col):\n",
    "    try:\n",
    "        if len(re.findall(patron_numeros, col)) > 0:\n",
    "            return col\n",
    "    except:\n",
    "        return np.nan"
   ]
  },
  {
   "cell_type": "code",
   "execution_count": 66,
   "metadata": {},
   "outputs": [],
   "source": [
    "ataques[\"edad\"] = ataques[\"age\"].apply(años_limpios)"
   ]
  },
  {
   "cell_type": "code",
   "execution_count": 67,
   "metadata": {},
   "outputs": [
    {
     "data": {
      "text/plain": [
       "array(['57', '18', '15', '32', '21', '30', '60', '33', '19', '25', '10',\n",
       "       '69', '55', '35', '20', '54', '22', '31', '40', '37', '11', '13',\n",
       "       '34', '50', '46', '48', '17', '28', '65', '73', '58', '36', '60s',\n",
       "       '51', '61', '59', '42', '6', '27', '23', '29', '39', '24', '12',\n",
       "       '26', '71', '43', '9', '44', '14', '62', '52', '38', '68', '16',\n",
       "       '47', '63', '70', '41', '40s', '53', '20s', '7', '66', '45', '74',\n",
       "       '64', '8', '56', '49', '18 or 20', None, '30s', '77', '8 or 10',\n",
       "       '84', '30 or 36', '6½', '5', ' 30', ' 28', \"60's\", '67', '>50',\n",
       "       '? & 19', '21, 34,24 & 35', '30 & 32', '13 or 18', '7 or 8',\n",
       "       '9 or 10', nan, '13 or 14'], dtype=object)"
      ]
     },
     "execution_count": 67,
     "metadata": {},
     "output_type": "execute_result"
    }
   ],
   "source": [
    "ataques[\"edad\"].unique()"
   ]
  },
  {
   "cell_type": "code",
   "execution_count": null,
   "metadata": {},
   "outputs": [],
   "source": [
    "ataques[\"age\"] = ataques[\"age\"].astype(\"int64\")"
   ]
  },
  {
   "attachments": {},
   "cell_type": "markdown",
   "metadata": {},
   "source": [
    "3. Guarda el csv con las columnas limpias para seguir trabajando con este dataframe limpio."
   ]
  },
  {
   "cell_type": "code",
   "execution_count": null,
   "metadata": {},
   "outputs": [],
   "source": []
  }
 ],
 "metadata": {
  "kernelspec": {
   "display_name": "base",
   "language": "python",
   "name": "python3"
  },
  "language_info": {
   "codemirror_mode": {
    "name": "ipython",
    "version": 3
   },
   "file_extension": ".py",
   "mimetype": "text/x-python",
   "name": "python",
   "nbconvert_exporter": "python",
   "pygments_lexer": "ipython3",
   "version": "3.9.7"
  },
  "orig_nbformat": 4,
  "vscode": {
   "interpreter": {
    "hash": "ebacf0c690606339d2819fda86ce84d5dc8f19bdafd30d1cf039ac39003e3ee9"
   }
  }
 },
 "nbformat": 4,
 "nbformat_minor": 2
}
