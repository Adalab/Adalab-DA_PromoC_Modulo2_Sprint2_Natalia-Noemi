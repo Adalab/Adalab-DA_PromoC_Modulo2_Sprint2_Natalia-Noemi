{
 "cells": [
  {
   "attachments": {},
   "cell_type": "markdown",
   "metadata": {},
   "source": [
    "# Ejercicios Pair Programming - Módulo 2 Sprint 2\n",
    "## Lección 3 - EDA III\n",
    "### Natalia García Lago y Noemi Azorín"
   ]
  },
  {
   "attachments": {},
   "cell_type": "markdown",
   "metadata": {},
   "source": [
    "Es el momento de hacer una buena exploración visual de los datos para entender un poquito mejor el dataset. Para ello trabajaremos con la librería matplotlib y seaborn."
   ]
  },
  {
   "cell_type": "code",
   "execution_count": 2,
   "metadata": {},
   "outputs": [],
   "source": [
    "import pandas as pd\n",
    "import numpy as np\n",
    "import seaborn as sns\n",
    "import matplotlib.pyplot as plt\n",
    "import sidetable\n",
    "# establecemos el tamaño nuestras figuras\n",
    "plt.rcParams[\"figure.figsize\"] = (12,8)\n",
    "\n",
    "#evitamos warnings\n",
    "import warnings\n",
    "warnings.filterwarnings('ignore')"
   ]
  },
  {
   "attachments": {},
   "cell_type": "markdown",
   "metadata": {},
   "source": [
    "Nos damos cuenta que solo tenemos que limpiar algunas de las columnas, en concreto age, species, country, fatal, year, sex. Reducimos esto a una tabla para saber qué tenemos ya limpito y qué no. Actualizamos esta tabla ya que en el ejercicio de pair de Limpieza I y II ya dejamos algunas columnas limpitas:\n",
    "\n",
    "age\n",
    "✔️ la limpiamos en el pair de Limpieza II\n",
    "species\n",
    "✔️ la limpiamos en el pair de Limpieza II\n",
    "country\n",
    "✔️ la limpiamos en el pair de Limpieza II\n",
    "fatal\n",
    "✔️ la limpiamos en el pair de Pandas V\n",
    "year\n",
    "✔️ es una columna de tipo float deberíamos convertirla a integer\n",
    "sex\n",
    "✔️ la limpiamos en el pair de Pandas V\n",
    "fecha\n",
    "✔️ la limpiamos en el pair de Pandas V"
   ]
  },
  {
   "cell_type": "code",
   "execution_count": 3,
   "metadata": {},
   "outputs": [
    {
     "data": {
      "text/html": [
       "<div>\n",
       "<style scoped>\n",
       "    .dataframe tbody tr th:only-of-type {\n",
       "        vertical-align: middle;\n",
       "    }\n",
       "\n",
       "    .dataframe tbody tr th {\n",
       "        vertical-align: top;\n",
       "    }\n",
       "\n",
       "    .dataframe thead th {\n",
       "        text-align: right;\n",
       "    }\n",
       "</style>\n",
       "<table border=\"1\" class=\"dataframe\">\n",
       "  <thead>\n",
       "    <tr style=\"text-align: right;\">\n",
       "      <th></th>\n",
       "      <th>Unnamed: 0</th>\n",
       "      <th>case_number</th>\n",
       "      <th>year</th>\n",
       "      <th>type</th>\n",
       "      <th>country</th>\n",
       "      <th>activity</th>\n",
       "      <th>age</th>\n",
       "      <th>species_</th>\n",
       "      <th>mes</th>\n",
       "      <th>fatal</th>\n",
       "      <th>sex</th>\n",
       "      <th>especies</th>\n",
       "      <th>edad</th>\n",
       "    </tr>\n",
       "  </thead>\n",
       "  <tbody>\n",
       "    <tr>\n",
       "      <th>0</th>\n",
       "      <td>0</td>\n",
       "      <td>2018.06.25</td>\n",
       "      <td>2018</td>\n",
       "      <td>Boating</td>\n",
       "      <td>usa</td>\n",
       "      <td>Paddling</td>\n",
       "      <td>57</td>\n",
       "      <td>White shark</td>\n",
       "      <td>Jun</td>\n",
       "      <td>N</td>\n",
       "      <td>F</td>\n",
       "      <td>Tiburón Blanco</td>\n",
       "      <td>57</td>\n",
       "    </tr>\n",
       "    <tr>\n",
       "      <th>1</th>\n",
       "      <td>1</td>\n",
       "      <td>2018.06.03.a</td>\n",
       "      <td>2018</td>\n",
       "      <td>Unprovoked</td>\n",
       "      <td>brazil</td>\n",
       "      <td>Swimming</td>\n",
       "      <td>18</td>\n",
       "      <td>Tiger shark</td>\n",
       "      <td>Jun</td>\n",
       "      <td>Y</td>\n",
       "      <td>M</td>\n",
       "      <td>Tiburón tigre</td>\n",
       "      <td>18</td>\n",
       "    </tr>\n",
       "    <tr>\n",
       "      <th>2</th>\n",
       "      <td>2</td>\n",
       "      <td>2018.05.26.b</td>\n",
       "      <td>2018</td>\n",
       "      <td>Unprovoked</td>\n",
       "      <td>usa</td>\n",
       "      <td>Walking</td>\n",
       "      <td>15</td>\n",
       "      <td>Bull shark, 6'</td>\n",
       "      <td>May</td>\n",
       "      <td>N</td>\n",
       "      <td>M</td>\n",
       "      <td>Tiburón toro</td>\n",
       "      <td>15</td>\n",
       "    </tr>\n",
       "    <tr>\n",
       "      <th>3</th>\n",
       "      <td>3</td>\n",
       "      <td>2018.05.24</td>\n",
       "      <td>2018</td>\n",
       "      <td>Provoked</td>\n",
       "      <td>australia</td>\n",
       "      <td>Feeding sharks</td>\n",
       "      <td>32</td>\n",
       "      <td>Grey reef shark</td>\n",
       "      <td>May</td>\n",
       "      <td>N</td>\n",
       "      <td>M</td>\n",
       "      <td>Tiburón Gris</td>\n",
       "      <td>32</td>\n",
       "    </tr>\n",
       "    <tr>\n",
       "      <th>4</th>\n",
       "      <td>4</td>\n",
       "      <td>2018.05.13.a</td>\n",
       "      <td>2018</td>\n",
       "      <td>Invalid</td>\n",
       "      <td>england</td>\n",
       "      <td>Fishing</td>\n",
       "      <td>21</td>\n",
       "      <td>Invalid incident</td>\n",
       "      <td>May</td>\n",
       "      <td>N</td>\n",
       "      <td>M</td>\n",
       "      <td>Unspecified</td>\n",
       "      <td>21</td>\n",
       "    </tr>\n",
       "  </tbody>\n",
       "</table>\n",
       "</div>"
      ],
      "text/plain": [
       "   Unnamed: 0   case_number  year        type    country        activity age  \\\n",
       "0           0    2018.06.25  2018     Boating        usa        Paddling  57   \n",
       "1           1  2018.06.03.a  2018  Unprovoked     brazil        Swimming  18   \n",
       "2           2  2018.05.26.b  2018  Unprovoked        usa         Walking  15   \n",
       "3           3    2018.05.24  2018    Provoked  australia  Feeding sharks  32   \n",
       "4           4  2018.05.13.a  2018     Invalid    england         Fishing  21   \n",
       "\n",
       "           species_  mes fatal sex        especies  edad  \n",
       "0       White shark  Jun     N   F  Tiburón Blanco    57  \n",
       "1       Tiger shark  Jun     Y   M   Tiburón tigre    18  \n",
       "2    Bull shark, 6'  May     N   M    Tiburón toro    15  \n",
       "3   Grey reef shark  May     N   M    Tiburón Gris    32  \n",
       "4  Invalid incident  May     N   M     Unspecified    21  "
      ]
     },
     "execution_count": 3,
     "metadata": {},
     "output_type": "execute_result"
    }
   ],
   "source": [
    "ataques = pd.read_csv(\"../ficheros/ataques_limpiezaII.csv\")\n",
    "ataques.head()"
   ]
  },
  {
   "attachments": {},
   "cell_type": "markdown",
   "metadata": {},
   "source": [
    "Objetivos\n",
    "\n",
    "En el ejercicio de hoy tendremos que contestar a las siguientes preguntas:\n",
    "\n",
    "📌 Nota Como siempre, después de cada gráfica incluid una pequeña explicación de lo que nos está mostrando la gráfica."
   ]
  },
  {
   "attachments": {},
   "cell_type": "markdown",
   "metadata": {},
   "source": [
    "1 - Estableced el tamaño de las figuras al inicio de vuestro jupyter para que todas tengan las mismas dimensiones."
   ]
  },
  {
   "attachments": {},
   "cell_type": "markdown",
   "metadata": {},
   "source": [
    "2 - Manos a la obra con los plots, estos irán muy dirigidos hacia las preguntas que queremos contestar, para hacer una primera aproximación a nuestras hipótesis:\n",
    "\n",
    "- ¿Cuántos ataques hubo por pais? ¿Se puede ver algo claro si ploteamos todos los paises? En caso de que no, seleccionad solo los 10 paises con más ataques y volved a hacer el plot."
   ]
  },
  {
   "cell_type": "code",
   "execution_count": 4,
   "metadata": {},
   "outputs": [
    {
     "data": {
      "image/png": "[encoded data removed]",
      "text/plain": [
       "<Figure size 864x576 with 1 Axes>"
      ]
     },
     "metadata": {
      "needs_background": "light"
     },
     "output_type": "display_data"
    }
   ],
   "source": [
    "sns.countplot(x = ataques[\"country\"], data = ataques); \n",
    "plt.show(); "
   ]
  },
  {
   "attachments": {},
   "cell_type": "markdown",
   "metadata": {},
   "source": [
    "Observamos que mostrando todos los países no podemos hacer una interpretación clara, por lo que hacemos el estudio únicamente de los 10 países con más ataques."
   ]
  },
  {
   "cell_type": "code",
   "execution_count": 5,
   "metadata": {},
   "outputs": [],
   "source": [
    "country_freq= ataques.stb.freq([\"country\"], thresh = 88)"
   ]
  },
  {
   "cell_type": "code",
   "execution_count": 6,
   "metadata": {},
   "outputs": [
    {
     "data": {
      "text/plain": [
       "['usa',\n",
       " 'australia',\n",
       " 'south africa',\n",
       " 'bahamas',\n",
       " 'new zealand',\n",
       " 'reunion',\n",
       " 'papua new guinea',\n",
       " 'brazil',\n",
       " 'mexico',\n",
       " 'italy']"
      ]
     },
     "execution_count": 6,
     "metadata": {},
     "output_type": "execute_result"
    }
   ],
   "source": [
    "top_10 = country_freq[\"country\"].iloc[:10].tolist()\n",
    "top_10"
   ]
  },
  {
   "cell_type": "code",
   "execution_count": 7,
   "metadata": {},
   "outputs": [
    {
     "data": {
      "text/html": [
       "<div>\n",
       "<style scoped>\n",
       "    .dataframe tbody tr th:only-of-type {\n",
       "        vertical-align: middle;\n",
       "    }\n",
       "\n",
       "    .dataframe tbody tr th {\n",
       "        vertical-align: top;\n",
       "    }\n",
       "\n",
       "    .dataframe thead th {\n",
       "        text-align: right;\n",
       "    }\n",
       "</style>\n",
       "<table border=\"1\" class=\"dataframe\">\n",
       "  <thead>\n",
       "    <tr style=\"text-align: right;\">\n",
       "      <th></th>\n",
       "      <th>Unnamed: 0</th>\n",
       "      <th>case_number</th>\n",
       "      <th>year</th>\n",
       "      <th>type</th>\n",
       "      <th>country</th>\n",
       "      <th>activity</th>\n",
       "      <th>age</th>\n",
       "      <th>species_</th>\n",
       "      <th>mes</th>\n",
       "      <th>fatal</th>\n",
       "      <th>sex</th>\n",
       "      <th>especies</th>\n",
       "      <th>edad</th>\n",
       "    </tr>\n",
       "  </thead>\n",
       "  <tbody>\n",
       "    <tr>\n",
       "      <th>0</th>\n",
       "      <td>0</td>\n",
       "      <td>2018.06.25</td>\n",
       "      <td>2018</td>\n",
       "      <td>Boating</td>\n",
       "      <td>usa</td>\n",
       "      <td>Paddling</td>\n",
       "      <td>57</td>\n",
       "      <td>White shark</td>\n",
       "      <td>Jun</td>\n",
       "      <td>N</td>\n",
       "      <td>F</td>\n",
       "      <td>Tiburón Blanco</td>\n",
       "      <td>57</td>\n",
       "    </tr>\n",
       "    <tr>\n",
       "      <th>1</th>\n",
       "      <td>1</td>\n",
       "      <td>2018.06.03.a</td>\n",
       "      <td>2018</td>\n",
       "      <td>Unprovoked</td>\n",
       "      <td>brazil</td>\n",
       "      <td>Swimming</td>\n",
       "      <td>18</td>\n",
       "      <td>Tiger shark</td>\n",
       "      <td>Jun</td>\n",
       "      <td>Y</td>\n",
       "      <td>M</td>\n",
       "      <td>Tiburón tigre</td>\n",
       "      <td>18</td>\n",
       "    </tr>\n",
       "    <tr>\n",
       "      <th>2</th>\n",
       "      <td>2</td>\n",
       "      <td>2018.05.26.b</td>\n",
       "      <td>2018</td>\n",
       "      <td>Unprovoked</td>\n",
       "      <td>usa</td>\n",
       "      <td>Walking</td>\n",
       "      <td>15</td>\n",
       "      <td>Bull shark, 6'</td>\n",
       "      <td>May</td>\n",
       "      <td>N</td>\n",
       "      <td>M</td>\n",
       "      <td>Tiburón toro</td>\n",
       "      <td>15</td>\n",
       "    </tr>\n",
       "    <tr>\n",
       "      <th>3</th>\n",
       "      <td>3</td>\n",
       "      <td>2018.05.24</td>\n",
       "      <td>2018</td>\n",
       "      <td>Provoked</td>\n",
       "      <td>australia</td>\n",
       "      <td>Feeding sharks</td>\n",
       "      <td>32</td>\n",
       "      <td>Grey reef shark</td>\n",
       "      <td>May</td>\n",
       "      <td>N</td>\n",
       "      <td>M</td>\n",
       "      <td>Tiburón Gris</td>\n",
       "      <td>32</td>\n",
       "    </tr>\n",
       "    <tr>\n",
       "      <th>6</th>\n",
       "      <td>6</td>\n",
       "      <td>2018.04.25.a</td>\n",
       "      <td>2018</td>\n",
       "      <td>Unprovoked</td>\n",
       "      <td>australia</td>\n",
       "      <td>Surfing</td>\n",
       "      <td>60</td>\n",
       "      <td>3 m shark</td>\n",
       "      <td>Apr</td>\n",
       "      <td>N</td>\n",
       "      <td>M</td>\n",
       "      <td>Unspecified</td>\n",
       "      <td>60</td>\n",
       "    </tr>\n",
       "    <tr>\n",
       "      <th>...</th>\n",
       "      <td>...</td>\n",
       "      <td>...</td>\n",
       "      <td>...</td>\n",
       "      <td>...</td>\n",
       "      <td>...</td>\n",
       "      <td>...</td>\n",
       "      <td>...</td>\n",
       "      <td>...</td>\n",
       "      <td>...</td>\n",
       "      <td>...</td>\n",
       "      <td>...</td>\n",
       "      <td>...</td>\n",
       "      <td>...</td>\n",
       "    </tr>\n",
       "    <tr>\n",
       "      <th>1665</th>\n",
       "      <td>1665</td>\n",
       "      <td>ND.0007</td>\n",
       "      <td>0</td>\n",
       "      <td>Unprovoked</td>\n",
       "      <td>australia</td>\n",
       "      <td>Fishing</td>\n",
       "      <td>NaN</td>\n",
       "      <td>Blue pointers</td>\n",
       "      <td>NaN</td>\n",
       "      <td>Y</td>\n",
       "      <td>M</td>\n",
       "      <td>Unspecified</td>\n",
       "      <td>0</td>\n",
       "    </tr>\n",
       "    <tr>\n",
       "      <th>1666</th>\n",
       "      <td>1666</td>\n",
       "      <td>ND.0006</td>\n",
       "      <td>0</td>\n",
       "      <td>Unprovoked</td>\n",
       "      <td>australia</td>\n",
       "      <td>Swimming</td>\n",
       "      <td>NaN</td>\n",
       "      <td>Said to involve a grey nurse shark that leapt ...</td>\n",
       "      <td>NaN</td>\n",
       "      <td>Y</td>\n",
       "      <td>M</td>\n",
       "      <td>Tiburón Gris</td>\n",
       "      <td>0</td>\n",
       "    </tr>\n",
       "    <tr>\n",
       "      <th>1667</th>\n",
       "      <td>1667</td>\n",
       "      <td>ND.0005</td>\n",
       "      <td>0</td>\n",
       "      <td>Unprovoked</td>\n",
       "      <td>australia</td>\n",
       "      <td>Diving</td>\n",
       "      <td>NaN</td>\n",
       "      <td>NaN</td>\n",
       "      <td>NaN</td>\n",
       "      <td>Y</td>\n",
       "      <td>M</td>\n",
       "      <td>NaN</td>\n",
       "      <td>0</td>\n",
       "    </tr>\n",
       "    <tr>\n",
       "      <th>1668</th>\n",
       "      <td>1668</td>\n",
       "      <td>ND.0004</td>\n",
       "      <td>0</td>\n",
       "      <td>Unprovoked</td>\n",
       "      <td>australia</td>\n",
       "      <td>Pearl diving</td>\n",
       "      <td>NaN</td>\n",
       "      <td>NaN</td>\n",
       "      <td>NaN</td>\n",
       "      <td>Y</td>\n",
       "      <td>M</td>\n",
       "      <td>NaN</td>\n",
       "      <td>0</td>\n",
       "    </tr>\n",
       "    <tr>\n",
       "      <th>1669</th>\n",
       "      <td>1669</td>\n",
       "      <td>ND.0003</td>\n",
       "      <td>0</td>\n",
       "      <td>Unprovoked</td>\n",
       "      <td>usa</td>\n",
       "      <td>Swimming</td>\n",
       "      <td>NaN</td>\n",
       "      <td>NaN</td>\n",
       "      <td>NaN</td>\n",
       "      <td>Y</td>\n",
       "      <td>M</td>\n",
       "      <td>NaN</td>\n",
       "      <td>0</td>\n",
       "    </tr>\n",
       "  </tbody>\n",
       "</table>\n",
       "<p>1443 rows × 13 columns</p>\n",
       "</div>"
      ],
      "text/plain": [
       "      Unnamed: 0   case_number  year        type    country        activity  \\\n",
       "0              0    2018.06.25  2018     Boating        usa        Paddling   \n",
       "1              1  2018.06.03.a  2018  Unprovoked     brazil        Swimming   \n",
       "2              2  2018.05.26.b  2018  Unprovoked        usa         Walking   \n",
       "3              3    2018.05.24  2018    Provoked  australia  Feeding sharks   \n",
       "6              6  2018.04.25.a  2018  Unprovoked  australia         Surfing   \n",
       "...          ...           ...   ...         ...        ...             ...   \n",
       "1665        1665       ND.0007     0  Unprovoked  australia         Fishing   \n",
       "1666        1666       ND.0006     0  Unprovoked  australia        Swimming   \n",
       "1667        1667       ND.0005     0  Unprovoked  australia          Diving   \n",
       "1668        1668       ND.0004     0  Unprovoked  australia    Pearl diving   \n",
       "1669        1669       ND.0003     0  Unprovoked        usa        Swimming   \n",
       "\n",
       "      age                                           species_  mes fatal sex  \\\n",
       "0      57                                        White shark  Jun     N   F   \n",
       "1      18                                        Tiger shark  Jun     Y   M   \n",
       "2      15                                     Bull shark, 6'  May     N   M   \n",
       "3      32                                    Grey reef shark  May     N   M   \n",
       "6      60                                          3 m shark  Apr     N   M   \n",
       "...   ...                                                ...  ...   ...  ..   \n",
       "1665  NaN                                      Blue pointers  NaN     Y   M   \n",
       "1666  NaN  Said to involve a grey nurse shark that leapt ...  NaN     Y   M   \n",
       "1667  NaN                                                NaN  NaN     Y   M   \n",
       "1668  NaN                                                NaN  NaN     Y   M   \n",
       "1669  NaN                                                NaN  NaN     Y   M   \n",
       "\n",
       "            especies  edad  \n",
       "0     Tiburón Blanco    57  \n",
       "1      Tiburón tigre    18  \n",
       "2       Tiburón toro    15  \n",
       "3       Tiburón Gris    32  \n",
       "6        Unspecified    60  \n",
       "...              ...   ...  \n",
       "1665     Unspecified     0  \n",
       "1666    Tiburón Gris     0  \n",
       "1667             NaN     0  \n",
       "1668             NaN     0  \n",
       "1669             NaN     0  \n",
       "\n",
       "[1443 rows x 13 columns]"
      ]
     },
     "execution_count": 7,
     "metadata": {},
     "output_type": "execute_result"
    }
   ],
   "source": [
    "df_ataques_pais = ataques[ataques[\"country\"].isin(top_10)]\n",
    "df_ataques_pais"
   ]
  },
  {
   "cell_type": "code",
   "execution_count": 8,
   "metadata": {},
   "outputs": [
    {
     "data": {
      "image/png": "[encoded data removed]",
      "text/plain": [
       "<Figure size 864x576 with 1 Axes>"
      ]
     },
     "metadata": {
      "needs_background": "light"
     },
     "output_type": "display_data"
    }
   ],
   "source": [
    "sns.countplot(x = df_ataques_pais[\"country\"], data = df_ataques_pais); \n",
    "plt.show(); "
   ]
  },
  {
   "attachments": {},
   "cell_type": "markdown",
   "metadata": {},
   "source": [
    "En la gráfica observamos que los países con más ataques son USA, Australia y South Africa."
   ]
  },
  {
   "attachments": {},
   "cell_type": "markdown",
   "metadata": {},
   "source": [
    " - Usando el DataFrame de los 10 paises con más ataques, ¿hay diferencias entre sexos en esos paises?"
   ]
  },
  {
   "cell_type": "code",
   "execution_count": 9,
   "metadata": {},
   "outputs": [
    {
     "data": {
      "text/html": [
       "<div>\n",
       "<style scoped>\n",
       "    .dataframe tbody tr th:only-of-type {\n",
       "        vertical-align: middle;\n",
       "    }\n",
       "\n",
       "    .dataframe tbody tr th {\n",
       "        vertical-align: top;\n",
       "    }\n",
       "\n",
       "    .dataframe thead th {\n",
       "        text-align: right;\n",
       "    }\n",
       "</style>\n",
       "<table border=\"1\" class=\"dataframe\">\n",
       "  <thead>\n",
       "    <tr style=\"text-align: right;\">\n",
       "      <th></th>\n",
       "      <th>country</th>\n",
       "      <th>sex</th>\n",
       "      <th>count</th>\n",
       "      <th>percent</th>\n",
       "      <th>cumulative_count</th>\n",
       "      <th>cumulative_percent</th>\n",
       "    </tr>\n",
       "  </thead>\n",
       "  <tbody>\n",
       "    <tr>\n",
       "      <th>0</th>\n",
       "      <td>usa</td>\n",
       "      <td>M</td>\n",
       "      <td>609</td>\n",
       "      <td>36.931474</td>\n",
       "      <td>609</td>\n",
       "      <td>36.931474</td>\n",
       "    </tr>\n",
       "    <tr>\n",
       "      <th>1</th>\n",
       "      <td>australia</td>\n",
       "      <td>M</td>\n",
       "      <td>309</td>\n",
       "      <td>18.738629</td>\n",
       "      <td>918</td>\n",
       "      <td>55.670103</td>\n",
       "    </tr>\n",
       "    <tr>\n",
       "      <th>2</th>\n",
       "      <td>south africa</td>\n",
       "      <td>M</td>\n",
       "      <td>224</td>\n",
       "      <td>13.583990</td>\n",
       "      <td>1142</td>\n",
       "      <td>69.254093</td>\n",
       "    </tr>\n",
       "    <tr>\n",
       "      <th>3</th>\n",
       "      <td>usa</td>\n",
       "      <td>F</td>\n",
       "      <td>131</td>\n",
       "      <td>7.944209</td>\n",
       "      <td>1273</td>\n",
       "      <td>77.198302</td>\n",
       "    </tr>\n",
       "    <tr>\n",
       "      <th>4</th>\n",
       "      <td>australia</td>\n",
       "      <td>F</td>\n",
       "      <td>33</td>\n",
       "      <td>2.001213</td>\n",
       "      <td>1306</td>\n",
       "      <td>79.199515</td>\n",
       "    </tr>\n",
       "    <tr>\n",
       "      <th>...</th>\n",
       "      <td>...</td>\n",
       "      <td>...</td>\n",
       "      <td>...</td>\n",
       "      <td>...</td>\n",
       "      <td>...</td>\n",
       "      <td>...</td>\n",
       "    </tr>\n",
       "    <tr>\n",
       "      <th>107</th>\n",
       "      <td>between portugal &amp; india</td>\n",
       "      <td>M</td>\n",
       "      <td>1</td>\n",
       "      <td>0.060643</td>\n",
       "      <td>1645</td>\n",
       "      <td>99.757429</td>\n",
       "    </tr>\n",
       "    <tr>\n",
       "      <th>108</th>\n",
       "      <td>belize</td>\n",
       "      <td>M</td>\n",
       "      <td>1</td>\n",
       "      <td>0.060643</td>\n",
       "      <td>1646</td>\n",
       "      <td>99.818072</td>\n",
       "    </tr>\n",
       "    <tr>\n",
       "      <th>109</th>\n",
       "      <td>bahrein</td>\n",
       "      <td>M</td>\n",
       "      <td>1</td>\n",
       "      <td>0.060643</td>\n",
       "      <td>1647</td>\n",
       "      <td>99.878714</td>\n",
       "    </tr>\n",
       "    <tr>\n",
       "      <th>110</th>\n",
       "      <td>asia?</td>\n",
       "      <td>M</td>\n",
       "      <td>1</td>\n",
       "      <td>0.060643</td>\n",
       "      <td>1648</td>\n",
       "      <td>99.939357</td>\n",
       "    </tr>\n",
       "    <tr>\n",
       "      <th>111</th>\n",
       "      <td>argentina</td>\n",
       "      <td>M</td>\n",
       "      <td>1</td>\n",
       "      <td>0.060643</td>\n",
       "      <td>1649</td>\n",
       "      <td>100.000000</td>\n",
       "    </tr>\n",
       "  </tbody>\n",
       "</table>\n",
       "<p>112 rows × 6 columns</p>\n",
       "</div>"
      ],
      "text/plain": [
       "                      country sex  count    percent  cumulative_count  \\\n",
       "0                         usa   M    609  36.931474               609   \n",
       "1                   australia   M    309  18.738629               918   \n",
       "2                south africa   M    224  13.583990              1142   \n",
       "3                         usa   F    131   7.944209              1273   \n",
       "4                   australia   F     33   2.001213              1306   \n",
       "..                        ...  ..    ...        ...               ...   \n",
       "107  between portugal & india   M      1   0.060643              1645   \n",
       "108                    belize   M      1   0.060643              1646   \n",
       "109                   bahrein   M      1   0.060643              1647   \n",
       "110                     asia?   M      1   0.060643              1648   \n",
       "111                 argentina   M      1   0.060643              1649   \n",
       "\n",
       "     cumulative_percent  \n",
       "0             36.931474  \n",
       "1             55.670103  \n",
       "2             69.254093  \n",
       "3             77.198302  \n",
       "4             79.199515  \n",
       "..                  ...  \n",
       "107           99.757429  \n",
       "108           99.818072  \n",
       "109           99.878714  \n",
       "110           99.939357  \n",
       "111          100.000000  \n",
       "\n",
       "[112 rows x 6 columns]"
      ]
     },
     "execution_count": 9,
     "metadata": {},
     "output_type": "execute_result"
    }
   ],
   "source": [
    "ataques_sex = ataques.stb.freq([\"country\",\"sex\"])\n",
    "ataques_sex"
   ]
  },
  {
   "cell_type": "code",
   "execution_count": 18,
   "metadata": {},
   "outputs": [
    {
     "data": {
      "text/html": [
       "<div>\n",
       "<style scoped>\n",
       "    .dataframe tbody tr th:only-of-type {\n",
       "        vertical-align: middle;\n",
       "    }\n",
       "\n",
       "    .dataframe tbody tr th {\n",
       "        vertical-align: top;\n",
       "    }\n",
       "\n",
       "    .dataframe thead th {\n",
       "        text-align: right;\n",
       "    }\n",
       "</style>\n",
       "<table border=\"1\" class=\"dataframe\">\n",
       "  <thead>\n",
       "    <tr style=\"text-align: right;\">\n",
       "      <th></th>\n",
       "      <th>country</th>\n",
       "      <th>sex</th>\n",
       "      <th>count</th>\n",
       "      <th>percent</th>\n",
       "      <th>cumulative_count</th>\n",
       "      <th>cumulative_percent</th>\n",
       "    </tr>\n",
       "  </thead>\n",
       "  <tbody>\n",
       "    <tr>\n",
       "      <th>0</th>\n",
       "      <td>usa</td>\n",
       "      <td>M</td>\n",
       "      <td>609</td>\n",
       "      <td>36.931474</td>\n",
       "      <td>609</td>\n",
       "      <td>36.931474</td>\n",
       "    </tr>\n",
       "    <tr>\n",
       "      <th>1</th>\n",
       "      <td>australia</td>\n",
       "      <td>M</td>\n",
       "      <td>309</td>\n",
       "      <td>18.738629</td>\n",
       "      <td>918</td>\n",
       "      <td>55.670103</td>\n",
       "    </tr>\n",
       "    <tr>\n",
       "      <th>2</th>\n",
       "      <td>south africa</td>\n",
       "      <td>M</td>\n",
       "      <td>224</td>\n",
       "      <td>13.583990</td>\n",
       "      <td>1142</td>\n",
       "      <td>69.254093</td>\n",
       "    </tr>\n",
       "    <tr>\n",
       "      <th>3</th>\n",
       "      <td>usa</td>\n",
       "      <td>F</td>\n",
       "      <td>131</td>\n",
       "      <td>7.944209</td>\n",
       "      <td>1273</td>\n",
       "      <td>77.198302</td>\n",
       "    </tr>\n",
       "    <tr>\n",
       "      <th>4</th>\n",
       "      <td>australia</td>\n",
       "      <td>F</td>\n",
       "      <td>33</td>\n",
       "      <td>2.001213</td>\n",
       "      <td>1306</td>\n",
       "      <td>79.199515</td>\n",
       "    </tr>\n",
       "    <tr>\n",
       "      <th>5</th>\n",
       "      <td>bahamas</td>\n",
       "      <td>M</td>\n",
       "      <td>25</td>\n",
       "      <td>1.516070</td>\n",
       "      <td>1331</td>\n",
       "      <td>80.715585</td>\n",
       "    </tr>\n",
       "    <tr>\n",
       "      <th>6</th>\n",
       "      <td>new zealand</td>\n",
       "      <td>M</td>\n",
       "      <td>19</td>\n",
       "      <td>1.152213</td>\n",
       "      <td>1350</td>\n",
       "      <td>81.867799</td>\n",
       "    </tr>\n",
       "    <tr>\n",
       "      <th>7</th>\n",
       "      <td>brazil</td>\n",
       "      <td>M</td>\n",
       "      <td>16</td>\n",
       "      <td>0.970285</td>\n",
       "      <td>1366</td>\n",
       "      <td>82.838084</td>\n",
       "    </tr>\n",
       "    <tr>\n",
       "      <th>8</th>\n",
       "      <td>reunion</td>\n",
       "      <td>M</td>\n",
       "      <td>15</td>\n",
       "      <td>0.909642</td>\n",
       "      <td>1381</td>\n",
       "      <td>83.747726</td>\n",
       "    </tr>\n",
       "    <tr>\n",
       "      <th>9</th>\n",
       "      <td>papua new guinea</td>\n",
       "      <td>M</td>\n",
       "      <td>13</td>\n",
       "      <td>0.788357</td>\n",
       "      <td>1394</td>\n",
       "      <td>84.536082</td>\n",
       "    </tr>\n",
       "  </tbody>\n",
       "</table>\n",
       "</div>"
      ],
      "text/plain": [
       "            country sex  count    percent  cumulative_count  \\\n",
       "0               usa   M    609  36.931474               609   \n",
       "1         australia   M    309  18.738629               918   \n",
       "2      south africa   M    224  13.583990              1142   \n",
       "3               usa   F    131   7.944209              1273   \n",
       "4         australia   F     33   2.001213              1306   \n",
       "5           bahamas   M     25   1.516070              1331   \n",
       "6       new zealand   M     19   1.152213              1350   \n",
       "7            brazil   M     16   0.970285              1366   \n",
       "8           reunion   M     15   0.909642              1381   \n",
       "9  papua new guinea   M     13   0.788357              1394   \n",
       "\n",
       "   cumulative_percent  \n",
       "0           36.931474  \n",
       "1           55.670103  \n",
       "2           69.254093  \n",
       "3           77.198302  \n",
       "4           79.199515  \n",
       "5           80.715585  \n",
       "6           81.867799  \n",
       "7           82.838084  \n",
       "8           83.747726  \n",
       "9           84.536082  "
      ]
     },
     "execution_count": 18,
     "metadata": {},
     "output_type": "execute_result"
    }
   ],
   "source": [
    "df_ataques_sex = ataques_sex.iloc[:10]\n",
    "df_ataques_sex"
   ]
  },
  {
   "cell_type": "code",
   "execution_count": 19,
   "metadata": {},
   "outputs": [
    {
     "data": {
      "image/png": "[encoded data removed]",
      "text/plain": [
       "<Figure size 864x576 with 1 Axes>"
      ]
     },
     "metadata": {
      "needs_background": "light"
     },
     "output_type": "display_data"
    }
   ],
   "source": [
    "sns.countplot(x = df_ataques_sex[\"country\"], data = df_ataques_sex, hue=\"sex\"); \n",
    "plt.show(); "
   ]
  },
  {
   "attachments": {},
   "cell_type": "markdown",
   "metadata": {},
   "source": [
    "En este gráfico observamos que la cantidad de ataques producidos en USA ha sido igual para hombres y mujeres. Sorprendentemente, en el resto de países no observamos ataques a mujeres."
   ]
  },
  {
   "attachments": {},
   "cell_type": "markdown",
   "metadata": {},
   "source": [
    "- ¿Qué edad recibe mayor número de ataques? 💡 Pista 💡 Para que esta gráfica nos salga legible tendremos que crear antes grupos de edad. Para hacer esto de una forma sencilla tenemos el método pd.cut() que aprendimos en la lección de Limpieza II."
   ]
  },
  {
   "cell_type": "code",
   "execution_count": 12,
   "metadata": {},
   "outputs": [],
   "source": [
    "ataques[\"grupos_edad\"] = pd.cut(ataques[\"edad\"], bins=[\"00\", \"19\", \"65\", \"100\"] , labels=[\"joven\", \"adulto\", \"tercera edad\"])"
   ]
  },
  {
   "cell_type": "code",
   "execution_count": 13,
   "metadata": {},
   "outputs": [
    {
     "data": {
      "text/html": [
       "<div>\n",
       "<style scoped>\n",
       "    .dataframe tbody tr th:only-of-type {\n",
       "        vertical-align: middle;\n",
       "    }\n",
       "\n",
       "    .dataframe tbody tr th {\n",
       "        vertical-align: top;\n",
       "    }\n",
       "\n",
       "    .dataframe thead th {\n",
       "        text-align: right;\n",
       "    }\n",
       "</style>\n",
       "<table border=\"1\" class=\"dataframe\">\n",
       "  <thead>\n",
       "    <tr style=\"text-align: right;\">\n",
       "      <th></th>\n",
       "      <th>Unnamed: 0</th>\n",
       "      <th>case_number</th>\n",
       "      <th>year</th>\n",
       "      <th>type</th>\n",
       "      <th>country</th>\n",
       "      <th>activity</th>\n",
       "      <th>age</th>\n",
       "      <th>species_</th>\n",
       "      <th>mes</th>\n",
       "      <th>fatal</th>\n",
       "      <th>sex</th>\n",
       "      <th>especies</th>\n",
       "      <th>edad</th>\n",
       "      <th>grupos_edad</th>\n",
       "    </tr>\n",
       "  </thead>\n",
       "  <tbody>\n",
       "    <tr>\n",
       "      <th>1661</th>\n",
       "      <td>1661</td>\n",
       "      <td>ND.0011</td>\n",
       "      <td>0</td>\n",
       "      <td>Unprovoked</td>\n",
       "      <td>asia?</td>\n",
       "      <td>Swimming</td>\n",
       "      <td>NaN</td>\n",
       "      <td>NaN</td>\n",
       "      <td>NaN</td>\n",
       "      <td>N</td>\n",
       "      <td>M</td>\n",
       "      <td>NaN</td>\n",
       "      <td>0</td>\n",
       "      <td>NaN</td>\n",
       "    </tr>\n",
       "    <tr>\n",
       "      <th>1142</th>\n",
       "      <td>1142</td>\n",
       "      <td>1975.11.19.a</td>\n",
       "      <td>1975</td>\n",
       "      <td>Unprovoked</td>\n",
       "      <td>south africa</td>\n",
       "      <td>Standing</td>\n",
       "      <td>33</td>\n",
       "      <td>Juvenile dusky shark</td>\n",
       "      <td>Nov</td>\n",
       "      <td>N</td>\n",
       "      <td>M</td>\n",
       "      <td>Unspecified</td>\n",
       "      <td>33</td>\n",
       "      <td>NaN</td>\n",
       "    </tr>\n",
       "    <tr>\n",
       "      <th>911</th>\n",
       "      <td>911</td>\n",
       "      <td>1994.01.03</td>\n",
       "      <td>1994</td>\n",
       "      <td>Unprovoked</td>\n",
       "      <td>south africa</td>\n",
       "      <td>Swimming</td>\n",
       "      <td>33</td>\n",
       "      <td>1.3 m [4'3\"] shark</td>\n",
       "      <td>Jan</td>\n",
       "      <td>N</td>\n",
       "      <td>M</td>\n",
       "      <td>Unspecified</td>\n",
       "      <td>33</td>\n",
       "      <td>adulto</td>\n",
       "    </tr>\n",
       "    <tr>\n",
       "      <th>158</th>\n",
       "      <td>158</td>\n",
       "      <td>2014.10.31</td>\n",
       "      <td>2014</td>\n",
       "      <td>Unprovoked</td>\n",
       "      <td>usa</td>\n",
       "      <td>Surfing</td>\n",
       "      <td>34</td>\n",
       "      <td>Tiger shark, 12'</td>\n",
       "      <td>Oct</td>\n",
       "      <td>N</td>\n",
       "      <td>F</td>\n",
       "      <td>Tiburón tigre</td>\n",
       "      <td>34</td>\n",
       "      <td>adulto</td>\n",
       "    </tr>\n",
       "    <tr>\n",
       "      <th>41</th>\n",
       "      <td>41</td>\n",
       "      <td>2017.04.17.a</td>\n",
       "      <td>2017</td>\n",
       "      <td>Unprovoked</td>\n",
       "      <td>australia</td>\n",
       "      <td>Surfing</td>\n",
       "      <td>17</td>\n",
       "      <td>White shark</td>\n",
       "      <td>Apr</td>\n",
       "      <td>Y</td>\n",
       "      <td>F</td>\n",
       "      <td>Tiburón Blanco</td>\n",
       "      <td>17</td>\n",
       "      <td>joven</td>\n",
       "    </tr>\n",
       "  </tbody>\n",
       "</table>\n",
       "</div>"
      ],
      "text/plain": [
       "      Unnamed: 0   case_number  year        type       country   activity  \\\n",
       "1661        1661       ND.0011     0  Unprovoked         asia?   Swimming   \n",
       "1142        1142  1975.11.19.a  1975  Unprovoked  south africa   Standing   \n",
       "911          911    1994.01.03  1994  Unprovoked  south africa  Swimming    \n",
       "158          158    2014.10.31  2014  Unprovoked           usa    Surfing   \n",
       "41            41  2017.04.17.a  2017  Unprovoked     australia    Surfing   \n",
       "\n",
       "      age              species_  mes fatal sex        especies  edad  \\\n",
       "1661  NaN                   NaN  NaN     N   M             NaN     0   \n",
       "1142   33  Juvenile dusky shark  Nov     N   M     Unspecified    33   \n",
       "911    33    1.3 m [4'3\"] shark  Jan     N   M     Unspecified    33   \n",
       "158    34      Tiger shark, 12'  Oct     N   F   Tiburón tigre    34   \n",
       "41     17           White shark  Apr     Y   F  Tiburón Blanco    17   \n",
       "\n",
       "     grupos_edad  \n",
       "1661         NaN  \n",
       "1142         NaN  \n",
       "911       adulto  \n",
       "158       adulto  \n",
       "41         joven  "
      ]
     },
     "execution_count": 13,
     "metadata": {},
     "output_type": "execute_result"
    }
   ],
   "source": [
    "ataques.sample(5)"
   ]
  },
  {
   "cell_type": "code",
   "execution_count": 14,
   "metadata": {},
   "outputs": [
    {
     "data": {
      "image/png": "[encoded data removed]",
      "text/plain": [
       "<Figure size 864x576 with 1 Axes>"
      ]
     },
     "metadata": {
      "needs_background": "light"
     },
     "output_type": "display_data"
    }
   ],
   "source": [
    "sns.countplot(x = ataques[\"grupos_edad\"], data = ataques); \n",
    "plt.show(); "
   ]
  },
  {
   "cell_type": "code",
   "execution_count": 15,
   "metadata": {},
   "outputs": [
    {
     "data": {
      "text/plain": [
       "array([57, 18, 15, 32, 21, 30, 60, 33, 19, 25, 10, 69, 55, 35, 20, 54, 22,\n",
       "       31, 40, 37, 11, 13, 34, 50, 46, 48, 17, 28, 65, 73, 58, 36,  0, 51,\n",
       "       61, 59, 42, 27, 23, 29, 39, 24, 12, 26, 71, 43, 44, 14, 62, 52, 38,\n",
       "       68, 16, 47, 63, 70, 41, 53, 66, 45, 74, 64, 56, 49, 77, 84, 67])"
      ]
     },
     "execution_count": 15,
     "metadata": {},
     "output_type": "execute_result"
    }
   ],
   "source": [
    "ataques[\"edad\"].unique()"
   ]
  },
  {
   "attachments": {},
   "cell_type": "markdown",
   "metadata": {},
   "source": [
    "La mayoría de ataques se producen a adultos. Esto se puede deber a que son los adultos los que más se exponen practicando actividades acuáticas. Con el unique observamos que, efectívamente, hay muy pocos registros que se puedan corresponder a la tercera edad y por eso este grupo no se visualiza."
   ]
  },
  {
   "attachments": {},
   "cell_type": "markdown",
   "metadata": {},
   "source": [
    "- Ataques entre sexos, ¿hay diferencia?"
   ]
  },
  {
   "cell_type": "code",
   "execution_count": 16,
   "metadata": {},
   "outputs": [
    {
     "data": {
      "image/png": "[encoded data removed]",
      "text/plain": [
       "<Figure size 864x576 with 1 Axes>"
      ]
     },
     "metadata": {
      "needs_background": "light"
     },
     "output_type": "display_data"
    }
   ],
   "source": [
    "sns.countplot(x = ataques[\"sex\"], data = ataques); \n",
    "plt.show(); "
   ]
  },
  {
   "attachments": {},
   "cell_type": "markdown",
   "metadata": {},
   "source": [
    "A continuación vemos que la mayoría de ataques con diferencia a nivel mundial se producen a los hombres."
   ]
  },
  {
   "attachments": {},
   "cell_type": "markdown",
   "metadata": {},
   "source": [
    "- ¿Cuando ocurren más ataques? ¿Os sale algo raro en la gráfica? Intentad limpiar un poco los datos para que os salga mejor."
   ]
  },
  {
   "cell_type": "code",
   "execution_count": 17,
   "metadata": {},
   "outputs": [
    {
     "data": {
      "image/png": "[encoded data removed]",
      "text/plain": [
       "<Figure size 864x576 with 1 Axes>"
      ]
     },
     "metadata": {
      "needs_background": "light"
     },
     "output_type": "display_data"
    }
   ],
   "source": [
    "sns.countplot(x = ataques[\"mes\"], data = ataques); \n",
    "plt.show(); "
   ]
  },
  {
   "attachments": {},
   "cell_type": "markdown",
   "metadata": {},
   "source": [
    "Vemos que el mes en el que se producen más ataques es agosto, seguido por septiembre y octubre. El mes más seguro para practicar alguna actividad en el mar es febrero, también a nivel mundial."
   ]
  }
 ],
 "metadata": {
  "kernelspec": {
   "display_name": "base",
   "language": "python",
   "name": "python3"
  },
  "language_info": {
   "codemirror_mode": {
    "name": "ipython",
    "version": 3
   },
   "file_extension": ".py",
   "mimetype": "text/x-python",
   "name": "python",
   "nbconvert_exporter": "python",
   "pygments_lexer": "ipython3",
   "version": "3.9.7"
  },
  "orig_nbformat": 4,
  "vscode": {
   "interpreter": {
    "hash": "ebacf0c690606339d2819fda86ce84d5dc8f19bdafd30d1cf039ac39003e3ee9"
   }
  }
 },
 "nbformat": 4,
 "nbformat_minor": 2
}
