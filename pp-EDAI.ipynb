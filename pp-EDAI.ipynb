{
 "cells": [
  {
   "attachments": {},
   "cell_type": "markdown",
   "metadata": {},
   "source": [
    "# Ejercicios Pair Programming - Módulo 2 Sprint 2\n",
    "## Lección 1 - EDA I\n",
    "### Natalia García Lago y Noemi Azorín"
   ]
  },
  {
   "cell_type": "code",
   "execution_count": null,
   "metadata": {},
   "outputs": [],
   "source": [
    "import pandas as pd"
   ]
  },
  {
   "attachments": {},
   "cell_type": "markdown",
   "metadata": {},
   "source": [
    "Si recordamos, en la lecciones de Pandas estuvimos usando un dataset sobre ataques de tiburones, y que hicimos algunos cambios a lo largo de los ejercicios, incluimos filas, columnas e incluso limpiamos algunas colummas 💪🏽! Para todas los ejercicios de pair programming de EDA I y II usaremos el dataframe generado en el ejercicio de Pandas VII."
   ]
  },
  {
   "attachments": {},
   "cell_type": "markdown",
   "metadata": {},
   "source": [
    "# Hipótesis\n",
    "Las hipótesis que os planteamos son:\n",
    "\n",
    "- ¿Es Australia el sitio más peligroso y letal para estar relajada en la playa?\n",
    "\n",
    "- ¿Hay diferencias entre los países en los ataques a hombres y mujeres?\n",
    "\n",
    "- ¿Cuáles son las edades que más sufren ataques?\n",
    "\n",
    "- Independientemente de la edad, ¿sufren los hombres más ataques que las mujeres?\n",
    "\n",
    "- ¿En qué mes ocurren más ataques?\n",
    "\n",
    "- ¿Cuál es la relación entre la especie y el tipo de ataque (si es fatal o no)?\n",
    "\n",
    "- ¿Cómo han evolucionado los ataques a lo largo del tiempo?\n"
   ]
  },
  {
   "attachments": {},
   "cell_type": "markdown",
   "metadata": {},
   "source": [
    "# Objetivos\n",
    "Los objetivos de hoy son:\n",
    "\n",
    "1 - Haced una exploración inicial del dataframe:\n",
    "- ¿Cuál es el número de filas y columnas?"
   ]
  },
  {
   "cell_type": "code",
   "execution_count": null,
   "metadata": {},
   "outputs": [],
   "source": []
  },
  {
   "attachments": {},
   "cell_type": "markdown",
   "metadata": {},
   "source": [
    "- ¿Cuál es el porcentaje de valores nulos en cada columna? Presenta los resultados en un dataframe, donde las columnas sean el nombre de las variables y el porcentaje de nulos."
   ]
  },
  {
   "cell_type": "code",
   "execution_count": null,
   "metadata": {},
   "outputs": [],
   "source": []
  },
  {
   "attachments": {},
   "cell_type": "markdown",
   "metadata": {},
   "source": [
    "- ¿Qué tipos de datos hay en cada columna?"
   ]
  },
  {
   "cell_type": "code",
   "execution_count": null,
   "metadata": {},
   "outputs": [],
   "source": []
  },
  {
   "attachments": {},
   "cell_type": "markdown",
   "metadata": {},
   "source": [
    "- Extraed la información general del dataframe."
   ]
  },
  {
   "cell_type": "code",
   "execution_count": null,
   "metadata": {},
   "outputs": [],
   "source": []
  },
  {
   "attachments": {},
   "cell_type": "markdown",
   "metadata": {},
   "source": [
    "2 - Cread dos dataframes nuevos, uno que incluya solo las variables categóricas y otro que incluya solo las variables numéricas:\n",
    "\n",
    "- ¿Cuáles son los principales estádisticos de los dataframes?"
   ]
  },
  {
   "cell_type": "code",
   "execution_count": null,
   "metadata": {},
   "outputs": [],
   "source": []
  },
  {
   "attachments": {},
   "cell_type": "markdown",
   "metadata": {},
   "source": [
    "- Extraed los valores únicos su frecuencia. BONUS presenta los resultados en un dataframe. Ver un ejemplo del resultado en apuntes."
   ]
  },
  {
   "cell_type": "code",
   "execution_count": null,
   "metadata": {},
   "outputs": [],
   "source": []
  },
  {
   "attachments": {},
   "cell_type": "markdown",
   "metadata": {},
   "source": [
    "# Conclusiones\n",
    "De qué nos sirven estos números y dataframe? Extraed conclusiones de ellos.\n",
    "Por ejemplo:\n",
    "\n",
    "¿Hay alguna columna que no tenga sentido su tipo de datos?\n",
    "\n",
    "¿Hay alguna columna que no tenga sentido su nombre?\n",
    "\n",
    "¿Hay alguna columna que no tenga sentido su contenido?\n",
    "\n",
    "¿Hay alguna columna que tenga demasiadas categorías o valores que nos pueda hacer difícil trabajar con ella?"
   ]
  }
 ],
 "metadata": {
  "kernelspec": {
   "display_name": "Python 3",
   "language": "python",
   "name": "python3"
  },
  "language_info": {
   "name": "python",
   "version": "3.10.9 (tags/v3.10.9:1dd9be6, Dec  6 2022, 20:01:21) [MSC v.1934 64 bit (AMD64)]"
  },
  "orig_nbformat": 4,
  "vscode": {
   "interpreter": {
    "hash": "74ce4e106c5f3fb5408a2b59926dbdd162e96cafe5f5c54fb66c999b373c7a81"
   }
  }
 },
 "nbformat": 4,
 "nbformat_minor": 2
}
