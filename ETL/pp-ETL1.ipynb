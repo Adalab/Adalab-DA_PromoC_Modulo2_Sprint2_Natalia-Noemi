{
 "cells": [
  {
   "attachments": {},
   "cell_type": "markdown",
   "metadata": {},
   "source": [
    "# Ejercicios Pair Programming - Módulo 2 Sprint 2\n",
    "## Lección 1 - ETL 1\n",
    "### Natalia García Lago y Noemi Azorín"
   ]
  },
  {
   "cell_type": "code",
   "execution_count": 1,
   "metadata": {},
   "outputs": [],
   "source": [
    "from IPython.core.interactiveshell import InteractiveShell \n",
    "InteractiveShell.ast_node_interactivity = \"all\" \n",
    "import requests\n",
    "import pandas as pd\n",
    "import numpy as np"
   ]
  },
  {
   "attachments": {},
   "cell_type": "markdown",
   "metadata": {},
   "source": [
    "Vamos a nutrir los datos de los ataques de los tiburones con información climática de los paises que tenemos. Para eso vamos a usar la API del clima que hemos aprendido en la clase invertida:"
   ]
  },
  {
   "cell_type": "code",
   "execution_count": 82,
   "metadata": {},
   "outputs": [],
   "source": [
    "#url = f'http://www.7timer.info/bin/api.pl?lon=-{lon}&lat={lat}&product={producto}&output=json'"
   ]
  },
  {
   "attachments": {},
   "cell_type": "markdown",
   "metadata": {},
   "source": [
    "En este caso os recomendamos que uséis el producto meteo para obtener la información climática. Para hacer la llamada a la API necesitamos también las coordenadas de los paises que tenemos en el dataset.\n",
    "\n",
    "Por lo tanto, el objetivo es que saquéis la información del clima de la API para los paises que tenemos. Pero antes de poneros manos a la obra, tenemos muchísimos países y esto puede hacerse eterno. Sacad la información climática solo para los siguientes países, con las siguientes coordenadas:"
   ]
  },
  {
   "attachments": {},
   "cell_type": "markdown",
   "metadata": {},
   "source": [
    "USA\n",
    "39.7837304\n",
    "-100.445882\n",
    "\n",
    "Australia\n",
    "-24.7761086\n",
    "134.755\n",
    "\n",
    "South Africa\n",
    "-28.8166236\n",
    "24.991639\n",
    "\n",
    "New Zealand\n",
    "-41.5000831\n",
    "172.8344077\n",
    "\n",
    "Papua New Guinea\n",
    "-5.6816069\n",
    "144.2489081"
   ]
  },
  {
   "attachments": {},
   "cell_type": "markdown",
   "metadata": {},
   "source": [
    "💡 Pistas 💡:\n",
    "Crearos un diccionario donde:\n",
    "\n",
    "- Las keys sean los nombres de los paises\n",
    "- Los values sean las coordenadas de los paises en formato lista.\n",
    "- Iterar por el diccionario. Dentro del for haremos la llamada a la API como hemos aprendido en las clases invertidas. Recordamos que para iterar por el diccionario tenemos que seguir la siguiente estructura:\n",
    "\n",
    "for key, value in diccionario.items():\n",
    "    print(key, value)\n",
    "\n",
    "- Crearnos un dataframe vacío donde iremos concatenando los datos obtenidos de la API cada país.\n",
    "- Guardad el csv ya que mañana lo necesitaremos para hacer el ejercicio de pair programming."
   ]
  },
  {
   "attachments": {},
   "cell_type": "markdown",
   "metadata": {},
   "source": [
    "Requisitos de este ejercicio de pair programming:\n",
    "\n",
    "1 - Deberéis meter toda la información climática en un único dataframe."
   ]
  },
  {
   "attachments": {},
   "cell_type": "markdown",
   "metadata": {},
   "source": [
    "2 - Deberéis hacer la llamada a la API de una sola vez. Es decir, tendréis que iterar por la lista de países y sacar la información del clima para cada uno de ellos.\n"
   ]
  },
  {
   "attachments": {},
   "cell_type": "markdown",
   "metadata": {},
   "source": [
    "3 - Al meter toda la información en un único dataframe tendremos que crear una columna que corresponda con el nombre del país."
   ]
  },
  {
   "attachments": {},
   "cell_type": "markdown",
   "metadata": {},
   "source": [
    "4 - Guardar el dataframe obtenido para usarlo en la siguiente sesión de pair programming."
   ]
  },
  {
   "cell_type": "code",
   "execution_count": 2,
   "metadata": {},
   "outputs": [],
   "source": [
    "dic = {\"USA\": [-100.445882, 39.7837304], \"Australia\": [134.755,-24.7761086], \n",
    "        \"South Africa\" : [24.991639,-28.8166236], \"New Zealand\": [172.8344077,-41.5000831], \n",
    "        \"Papua New Guinea\": [144.2489081,-5.6816069] }"
   ]
  },
  {
   "cell_type": "code",
   "execution_count": 3,
   "metadata": {},
   "outputs": [],
   "source": [
    "#creamos un df vacío para añadir los datos que vamos iterando en el for y lo unimos al otro con un pd.concat\n",
    "\n",
    "df_union = pd.DataFrame()"
   ]
  },
  {
   "cell_type": "code",
   "execution_count": 4,
   "metadata": {},
   "outputs": [],
   "source": [
    "for k, v in dic.items():\n",
    "    \n",
    "    response = requests.get(url=f'http://www.7timer.info/bin/api.pl?lon={v[0]}&lat={v[1]}&product=meteo&output=json')\n",
    "\n",
    "    df_meteo = pd.json_normalize(response.json(), \"dataseries\")\n",
    "\n",
    "    df_meteo[\"country\"] = k\n",
    "\n",
    "    df_union = pd.concat([df_meteo, df_union], axis = 0)"
   ]
  },
  {
   "cell_type": "code",
   "execution_count": 5,
   "metadata": {},
   "outputs": [
    {
     "data": {
      "text/html": [
       "<div>\n",
       "<style scoped>\n",
       "    .dataframe tbody tr th:only-of-type {\n",
       "        vertical-align: middle;\n",
       "    }\n",
       "\n",
       "    .dataframe tbody tr th {\n",
       "        vertical-align: top;\n",
       "    }\n",
       "\n",
       "    .dataframe thead th {\n",
       "        text-align: right;\n",
       "    }\n",
       "</style>\n",
       "<table border=\"1\" class=\"dataframe\">\n",
       "  <thead>\n",
       "    <tr style=\"text-align: right;\">\n",
       "      <th></th>\n",
       "      <th>timepoint</th>\n",
       "      <th>cloudcover</th>\n",
       "      <th>highcloud</th>\n",
       "      <th>midcloud</th>\n",
       "      <th>lowcloud</th>\n",
       "      <th>rh_profile</th>\n",
       "      <th>wind_profile</th>\n",
       "      <th>temp2m</th>\n",
       "      <th>lifted_index</th>\n",
       "      <th>rh2m</th>\n",
       "      <th>msl_pressure</th>\n",
       "      <th>prec_type</th>\n",
       "      <th>prec_amount</th>\n",
       "      <th>snow_depth</th>\n",
       "      <th>wind10m.direction</th>\n",
       "      <th>wind10m.speed</th>\n",
       "      <th>country</th>\n",
       "    </tr>\n",
       "  </thead>\n",
       "  <tbody>\n",
       "    <tr>\n",
       "      <th>0</th>\n",
       "      <td>3</td>\n",
       "      <td>9</td>\n",
       "      <td>-9999</td>\n",
       "      <td>-9999</td>\n",
       "      <td>-9999</td>\n",
       "      <td>[{'layer': '950mb', 'rh': -9999}, {'layer': '9...</td>\n",
       "      <td>[{'layer': '950mb', 'direction': -9999, 'speed...</td>\n",
       "      <td>12</td>\n",
       "      <td>2</td>\n",
       "      <td>15</td>\n",
       "      <td>-9999</td>\n",
       "      <td>rain</td>\n",
       "      <td>1</td>\n",
       "      <td>0</td>\n",
       "      <td>315</td>\n",
       "      <td>2</td>\n",
       "      <td>Papua New Guinea</td>\n",
       "    </tr>\n",
       "    <tr>\n",
       "      <th>1</th>\n",
       "      <td>6</td>\n",
       "      <td>9</td>\n",
       "      <td>-9999</td>\n",
       "      <td>-9999</td>\n",
       "      <td>-9999</td>\n",
       "      <td>[{'layer': '950mb', 'rh': -9999}, {'layer': '9...</td>\n",
       "      <td>[{'layer': '950mb', 'direction': -9999, 'speed...</td>\n",
       "      <td>11</td>\n",
       "      <td>2</td>\n",
       "      <td>15</td>\n",
       "      <td>-9999</td>\n",
       "      <td>rain</td>\n",
       "      <td>1</td>\n",
       "      <td>0</td>\n",
       "      <td>320</td>\n",
       "      <td>2</td>\n",
       "      <td>Papua New Guinea</td>\n",
       "    </tr>\n",
       "    <tr>\n",
       "      <th>2</th>\n",
       "      <td>9</td>\n",
       "      <td>9</td>\n",
       "      <td>-9999</td>\n",
       "      <td>-9999</td>\n",
       "      <td>-9999</td>\n",
       "      <td>[{'layer': '950mb', 'rh': -9999}, {'layer': '9...</td>\n",
       "      <td>[{'layer': '950mb', 'direction': -9999, 'speed...</td>\n",
       "      <td>11</td>\n",
       "      <td>2</td>\n",
       "      <td>15</td>\n",
       "      <td>-9999</td>\n",
       "      <td>none</td>\n",
       "      <td>1</td>\n",
       "      <td>0</td>\n",
       "      <td>310</td>\n",
       "      <td>2</td>\n",
       "      <td>Papua New Guinea</td>\n",
       "    </tr>\n",
       "    <tr>\n",
       "      <th>3</th>\n",
       "      <td>12</td>\n",
       "      <td>9</td>\n",
       "      <td>-9999</td>\n",
       "      <td>-9999</td>\n",
       "      <td>-9999</td>\n",
       "      <td>[{'layer': '950mb', 'rh': -9999}, {'layer': '9...</td>\n",
       "      <td>[{'layer': '950mb', 'direction': -9999, 'speed...</td>\n",
       "      <td>20</td>\n",
       "      <td>-1</td>\n",
       "      <td>9</td>\n",
       "      <td>-9999</td>\n",
       "      <td>none</td>\n",
       "      <td>1</td>\n",
       "      <td>0</td>\n",
       "      <td>40</td>\n",
       "      <td>2</td>\n",
       "      <td>Papua New Guinea</td>\n",
       "    </tr>\n",
       "    <tr>\n",
       "      <th>4</th>\n",
       "      <td>15</td>\n",
       "      <td>9</td>\n",
       "      <td>-9999</td>\n",
       "      <td>-9999</td>\n",
       "      <td>-9999</td>\n",
       "      <td>[{'layer': '950mb', 'rh': -9999}, {'layer': '9...</td>\n",
       "      <td>[{'layer': '950mb', 'direction': -9999, 'speed...</td>\n",
       "      <td>24</td>\n",
       "      <td>-1</td>\n",
       "      <td>8</td>\n",
       "      <td>-9999</td>\n",
       "      <td>rain</td>\n",
       "      <td>1</td>\n",
       "      <td>0</td>\n",
       "      <td>40</td>\n",
       "      <td>2</td>\n",
       "      <td>Papua New Guinea</td>\n",
       "    </tr>\n",
       "  </tbody>\n",
       "</table>\n",
       "</div>"
      ],
      "text/plain": [
       "   timepoint  cloudcover  highcloud  midcloud  lowcloud  \\\n",
       "0          3           9      -9999     -9999     -9999   \n",
       "1          6           9      -9999     -9999     -9999   \n",
       "2          9           9      -9999     -9999     -9999   \n",
       "3         12           9      -9999     -9999     -9999   \n",
       "4         15           9      -9999     -9999     -9999   \n",
       "\n",
       "                                          rh_profile  \\\n",
       "0  [{'layer': '950mb', 'rh': -9999}, {'layer': '9...   \n",
       "1  [{'layer': '950mb', 'rh': -9999}, {'layer': '9...   \n",
       "2  [{'layer': '950mb', 'rh': -9999}, {'layer': '9...   \n",
       "3  [{'layer': '950mb', 'rh': -9999}, {'layer': '9...   \n",
       "4  [{'layer': '950mb', 'rh': -9999}, {'layer': '9...   \n",
       "\n",
       "                                        wind_profile  temp2m  lifted_index  \\\n",
       "0  [{'layer': '950mb', 'direction': -9999, 'speed...      12             2   \n",
       "1  [{'layer': '950mb', 'direction': -9999, 'speed...      11             2   \n",
       "2  [{'layer': '950mb', 'direction': -9999, 'speed...      11             2   \n",
       "3  [{'layer': '950mb', 'direction': -9999, 'speed...      20            -1   \n",
       "4  [{'layer': '950mb', 'direction': -9999, 'speed...      24            -1   \n",
       "\n",
       "   rh2m  msl_pressure prec_type  prec_amount  snow_depth wind10m.direction  \\\n",
       "0    15         -9999      rain            1           0               315   \n",
       "1    15         -9999      rain            1           0               320   \n",
       "2    15         -9999      none            1           0               310   \n",
       "3     9         -9999      none            1           0                40   \n",
       "4     8         -9999      rain            1           0                40   \n",
       "\n",
       "   wind10m.speed           country  \n",
       "0              2  Papua New Guinea  \n",
       "1              2  Papua New Guinea  \n",
       "2              2  Papua New Guinea  \n",
       "3              2  Papua New Guinea  \n",
       "4              2  Papua New Guinea  "
      ]
     },
     "execution_count": 5,
     "metadata": {},
     "output_type": "execute_result"
    }
   ],
   "source": [
    "df_union.head()"
   ]
  },
  {
   "cell_type": "code",
   "execution_count": 6,
   "metadata": {},
   "outputs": [
    {
     "data": {
      "text/plain": [
       "array(['Papua New Guinea', 'New Zealand', 'South Africa', 'Australia',\n",
       "       'USA'], dtype=object)"
      ]
     },
     "execution_count": 6,
     "metadata": {},
     "output_type": "execute_result"
    }
   ],
   "source": [
    "#comprobamos que la columna country se ha creado para todos los paises de nuestro diccionario\n",
    "\n",
    "df_union[\"country\"].unique()"
   ]
  },
  {
   "cell_type": "code",
   "execution_count": 7,
   "metadata": {},
   "outputs": [],
   "source": [
    "#guardamos el df en formato csv\n",
    "\n",
    "df_union.to_csv(\"../ficheros/ETL1.csv\")"
   ]
  }
 ],
 "metadata": {
  "kernelspec": {
   "display_name": "Python 3",
   "language": "python",
   "name": "python3"
  },
  "language_info": {
   "codemirror_mode": {
    "name": "ipython",
    "version": 3
   },
   "file_extension": ".py",
   "mimetype": "text/x-python",
   "name": "python",
   "nbconvert_exporter": "python",
   "pygments_lexer": "ipython3",
   "version": "3.10.9"
  },
  "orig_nbformat": 4,
  "vscode": {
   "interpreter": {
    "hash": "74ce4e106c5f3fb5408a2b59926dbdd162e96cafe5f5c54fb66c999b373c7a81"
   }
  }
 },
 "nbformat": 4,
 "nbformat_minor": 2
}
