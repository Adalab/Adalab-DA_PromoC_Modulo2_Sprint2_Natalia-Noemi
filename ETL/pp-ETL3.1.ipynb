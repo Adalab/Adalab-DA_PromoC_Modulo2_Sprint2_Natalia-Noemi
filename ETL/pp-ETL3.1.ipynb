{
 "cells": [
  {
   "attachments": {},
   "cell_type": "markdown",
   "metadata": {},
   "source": [
    "# Ejercicios Pair Programming - Módulo 2 Sprint 2\n",
    "## Lección 4 - ETL 3.1\n",
    "### Natalia García Lago y Noemi Azorín"
   ]
  },
  {
   "cell_type": "code",
   "execution_count": 60,
   "metadata": {},
   "outputs": [],
   "source": [
    "import pandas as pd\n",
    "import mysql.connector\n",
    "pd.options.display.max_columns = None"
   ]
  },
  {
   "cell_type": "code",
   "execution_count": 61,
   "metadata": {},
   "outputs": [
    {
     "data": {
      "text/html": [
       "<div>\n",
       "<style scoped>\n",
       "    .dataframe tbody tr th:only-of-type {\n",
       "        vertical-align: middle;\n",
       "    }\n",
       "\n",
       "    .dataframe tbody tr th {\n",
       "        vertical-align: top;\n",
       "    }\n",
       "\n",
       "    .dataframe thead th {\n",
       "        text-align: right;\n",
       "    }\n",
       "</style>\n",
       "<table border=\"1\" class=\"dataframe\">\n",
       "  <thead>\n",
       "    <tr style=\"text-align: right;\">\n",
       "      <th></th>\n",
       "      <th>year</th>\n",
       "      <th>type</th>\n",
       "      <th>country</th>\n",
       "      <th>age</th>\n",
       "      <th>species_</th>\n",
       "      <th>fecha_limpia</th>\n",
       "      <th>fatal</th>\n",
       "      <th>sex</th>\n",
       "      <th>latitud</th>\n",
       "      <th>longitud</th>\n",
       "      <th>country2</th>\n",
       "      <th>fatal_N</th>\n",
       "      <th>fatal_Unknown</th>\n",
       "      <th>fatal_Y</th>\n",
       "      <th>fatal_N.1</th>\n",
       "      <th>fatal_Unknown.1</th>\n",
       "      <th>fatal_Y.1</th>\n",
       "      <th>species_.1</th>\n",
       "      <th>fecha_limpia.1</th>\n",
       "      <th>type.1</th>\n",
       "      <th>age_NORM</th>\n",
       "    </tr>\n",
       "  </thead>\n",
       "  <tbody>\n",
       "    <tr>\n",
       "      <th>0</th>\n",
       "      <td>2018</td>\n",
       "      <td>Boating</td>\n",
       "      <td>usa</td>\n",
       "      <td>57.0</td>\n",
       "      <td>White shark</td>\n",
       "      <td>Jun</td>\n",
       "      <td>N</td>\n",
       "      <td>F</td>\n",
       "      <td>39.78373</td>\n",
       "      <td>-100.445882</td>\n",
       "      <td>HN</td>\n",
       "      <td>1</td>\n",
       "      <td>0</td>\n",
       "      <td>0</td>\n",
       "      <td>1</td>\n",
       "      <td>0</td>\n",
       "      <td>0</td>\n",
       "      <td>4</td>\n",
       "      <td>7</td>\n",
       "      <td>1</td>\n",
       "      <td>9.116327</td>\n",
       "    </tr>\n",
       "    <tr>\n",
       "      <th>1</th>\n",
       "      <td>2018</td>\n",
       "      <td>Unprovoked</td>\n",
       "      <td>usa</td>\n",
       "      <td>11.0</td>\n",
       "      <td>Unespecific</td>\n",
       "      <td>Jun</td>\n",
       "      <td>N</td>\n",
       "      <td>F</td>\n",
       "      <td>39.78373</td>\n",
       "      <td>-100.445882</td>\n",
       "      <td>HN</td>\n",
       "      <td>1</td>\n",
       "      <td>0</td>\n",
       "      <td>0</td>\n",
       "      <td>1</td>\n",
       "      <td>0</td>\n",
       "      <td>0</td>\n",
       "      <td>3</td>\n",
       "      <td>7</td>\n",
       "      <td>7</td>\n",
       "      <td>3.804860</td>\n",
       "    </tr>\n",
       "  </tbody>\n",
       "</table>\n",
       "</div>"
      ],
      "text/plain": [
       "   year        type country   age     species_ fecha_limpia fatal sex  \\\n",
       "0  2018     Boating     usa  57.0  White shark          Jun     N   F   \n",
       "1  2018  Unprovoked     usa  11.0  Unespecific          Jun     N   F   \n",
       "\n",
       "    latitud    longitud country2  fatal_N  fatal_Unknown  fatal_Y  fatal_N.1  \\\n",
       "0  39.78373 -100.445882       HN        1              0        0          1   \n",
       "1  39.78373 -100.445882       HN        1              0        0          1   \n",
       "\n",
       "   fatal_Unknown.1  fatal_Y.1  species_.1  fecha_limpia.1  type.1  age_NORM  \n",
       "0                0          0           4               7       1  9.116327  \n",
       "1                0          0           3               7       7  3.804860  "
      ]
     },
     "execution_count": 61,
     "metadata": {},
     "output_type": "execute_result"
    }
   ],
   "source": [
    "df = pd.read_csv('../ficheros/attacks_limpieza_completa.csv', index_col=0)\n",
    "df.head(2)"
   ]
  },
  {
   "attachments": {},
   "cell_type": "markdown",
   "metadata": {},
   "source": [
    "\n",
    "Es el momento de meter todos nuestros datos en SQL 💪🏽!!! En este ejercicio nos crearemos dos tablas en una BBDD creada por nosotras. Una de las tablas contendrá la información que obtuvimos de los ejercicios de pair programming de Limpieza, es decir, el data set de ataques de tiburones limpito. La segunda tabla tendrá la información obtenida en el ejercicio de pair de ETL 1.\n",
    "\n",
    "📌 Nota Todo lo tendremos que hacer desde jupyter notebook\n",
    "\n",
    "- Cread la BBDD con el nombre de tiburones.\n",
    "- Cread las tablas de la BBDD: tabla ataques, tabla clima\n",
    "\n",
    "🚨 En caso de que no tengáis los datos unidos de la sesión anterior, tenéis un csv datos_union_clima_ataques con todos los datos que necesitareis para este ejercicio"
   ]
  },
  {
   "cell_type": "code",
   "execution_count": 62,
   "metadata": {},
   "outputs": [],
   "source": [
    "#creamos la bbdd \n",
    "\n",
    "def crear_bbdd(nombre_bbdd):\n",
    "    \n",
    "    mydb = mysql.connector.connect(\n",
    "      host=\"localhost\",\n",
    "      user=\"root\",\n",
    "      password='AlumnaAdalab' \n",
    "    )\n",
    "    print(\"Conexión realizada con éxito\")\n",
    "    \n",
    "    mycursor = mydb.cursor()\n",
    "\n",
    "    try:\n",
    "        mycursor.execute(f\"CREATE DATABASE IF NOT EXISTS {nombre_bbdd};\")\n",
    "        print(mycursor)\n",
    "    except mysql.connector.Error as err:\n",
    "        print(err)\n",
    "        print(\"Error Code:\", err.errno)\n",
    "        print(\"SQLSTATE\", err.sqlstate)\n",
    "        print(\"Message\", err.msg)\n"
   ]
  },
  {
   "cell_type": "code",
   "execution_count": 63,
   "metadata": {},
   "outputs": [
    {
     "name": "stdout",
     "output_type": "stream",
     "text": [
      "Conexión realizada con éxito\n",
      "MySQLCursor: CREATE DATABASE IF NOT EXISTS tiburones;\n"
     ]
    }
   ],
   "source": [
    "bbdd_ataques= crear_bbdd(\"tiburones\")"
   ]
  },
  {
   "cell_type": "code",
   "execution_count": 64,
   "metadata": {},
   "outputs": [],
   "source": [
    "#creamos la función para la inserción de las tablas\n",
    "\n",
    "def insertar_tabla(nombre_bbdd, contraseña, query):\n",
    "    \n",
    "   \n",
    "    cnx = mysql.connector.connect(user='root', password=f\"{contraseña}\",\n",
    "                                     host='127.0.0.1', database=f\"{nombre_bbdd}\")\n",
    "   \n",
    "    mycursor = cnx.cursor()\n",
    "    \n",
    "  \n",
    "    try: \n",
    "        mycursor.execute(query)\n",
    "        cnx.commit() \n",
    "  \n",
    "    except mysql.connector.Error as err:\n",
    "        print(err)\n",
    "        print(\"Error Code:\", err.errno)\n",
    "        print(\"SQLSTATE\", err.sqlstate)\n",
    "        print(\"Message\", err.msg)"
   ]
  },
  {
   "cell_type": "code",
   "execution_count": 65,
   "metadata": {},
   "outputs": [],
   "source": [
    "#creamos la tabla ataques\n",
    "\n",
    "tabla_ataques = '''CREATE TABLE IF NOT EXISTS `tiburones`.`ataques` (\n",
    "  `year` INT NOT NULL,\n",
    "  `type` VARCHAR(250),\n",
    "  `country` VARCHAR(250),\n",
    "  `age` FLOAT,\n",
    "  `species_` VARCHAR(250),\n",
    "  `fecha_limpia` VARCHAR(250),\n",
    "  `fatal` VARCHAR(50),\n",
    "  `sex` VARCHAR(250))\n",
    "ENGINE = InnoDB; '''"
   ]
  },
  {
   "cell_type": "code",
   "execution_count": 66,
   "metadata": {},
   "outputs": [],
   "source": [
    "#creamos la tabla clima\n",
    "\n",
    "tabla_clima = ''' CREATE TABLE IF NOT EXISTS `tiburones`.`clima` (\n",
    "   `latitud` FLOAT,\n",
    "    `longitud` FLOAT,\n",
    "    `country2` VARCHAR(250),\n",
    "    `fatal_N` INT,\n",
    "    `fatal_Unknown` INT,\n",
    "    `fatal_Y` INT, \n",
    "    `fatal_N.1` INT,\n",
    "    `fatal_Unknown.1` INT,\n",
    "    `fatal_Y.1` INT,\n",
    "    `species_.1` INT,\n",
    "    `fecha_limpia.1` INT,\n",
    "    `type.1` INT,\n",
    "    `age_NORM` FLOAT )\n",
    " ENGINE = InnoDB ;'''"
   ]
  },
  {
   "cell_type": "code",
   "execution_count": 67,
   "metadata": {},
   "outputs": [],
   "source": [
    "insertar_tabla(\"tiburones\", 'AlumnaAdalab', tabla_ataques)"
   ]
  },
  {
   "cell_type": "code",
   "execution_count": 68,
   "metadata": {},
   "outputs": [],
   "source": [
    "insertar_tabla(\"tiburones\", 'AlumnaAdalab', tabla_clima)"
   ]
  },
  {
   "attachments": {},
   "cell_type": "markdown",
   "metadata": {},
   "source": [
    "BONUS Insertar los datos en las tablas.\n",
    "\n",
    "📌 Nota Esta parte del pair es optativa y no será considerada para la evaluación."
   ]
  },
  {
   "cell_type": "code",
   "execution_count": 69,
   "metadata": {},
   "outputs": [],
   "source": [
    "#insertamos los datos en la tabla ataques\n",
    "\n",
    "for indice, fila in df.iterrows(): \n",
    "    \n",
    "    \n",
    "    query_ataques = f\"\"\" INSERT INTO `ataques` (`year`,`type`, `country`, `age`, `species_`, `fecha_limpia`, `fatal`, `sex`)         \n",
    "            VALUES (\"{fila['year']}\", \"{fila['type']}\", \"{fila['country']}\", \"{fila['age']}\",\"{fila['species_']}\", \"{fila['fecha_limpia']}\",\"{fila['fatal']}\", \"{fila['sex']}\");\n",
    "            \"\"\"\n",
    "    \n",
    "    insertar_tabla(\"tiburones\", 'AlumnaAdalab', query_ataques)"
   ]
  },
  {
   "cell_type": "code",
   "execution_count": 70,
   "metadata": {},
   "outputs": [
    {
     "name": "stdout",
     "output_type": "stream",
     "text": [
      "1265 (01000): Data truncated for column 'latitud' at row 1\n",
      "Error Code: 1265\n",
      "SQLSTATE 01000\n",
      "Message Data truncated for column 'latitud' at row 1\n",
      "1265 (01000): Data truncated for column 'latitud' at row 1\n",
      "Error Code: 1265\n",
      "SQLSTATE 01000\n",
      "Message Data truncated for column 'latitud' at row 1\n",
      "1265 (01000): Data truncated for column 'latitud' at row 1\n",
      "Error Code: 1265\n",
      "SQLSTATE 01000\n",
      "Message Data truncated for column 'latitud' at row 1\n",
      "1265 (01000): Data truncated for column 'latitud' at row 1\n",
      "Error Code: 1265\n",
      "SQLSTATE 01000\n",
      "Message Data truncated for column 'latitud' at row 1\n",
      "1265 (01000): Data truncated for column 'latitud' at row 1\n",
      "Error Code: 1265\n",
      "SQLSTATE 01000\n",
      "Message Data truncated for column 'latitud' at row 1\n",
      "1265 (01000): Data truncated for column 'latitud' at row 1\n",
      "Error Code: 1265\n",
      "SQLSTATE 01000\n",
      "Message Data truncated for column 'latitud' at row 1\n",
      "1265 (01000): Data truncated for column 'latitud' at row 1\n",
      "Error Code: 1265\n",
      "SQLSTATE 01000\n",
      "Message Data truncated for column 'latitud' at row 1\n",
      "1265 (01000): Data truncated for column 'latitud' at row 1\n",
      "Error Code: 1265\n",
      "SQLSTATE 01000\n",
      "Message Data truncated for column 'latitud' at row 1\n",
      "1265 (01000): Data truncated for column 'latitud' at row 1\n",
      "Error Code: 1265\n",
      "SQLSTATE 01000\n",
      "Message Data truncated for column 'latitud' at row 1\n",
      "1265 (01000): Data truncated for column 'latitud' at row 1\n",
      "Error Code: 1265\n",
      "SQLSTATE 01000\n",
      "Message Data truncated for column 'latitud' at row 1\n",
      "1265 (01000): Data truncated for column 'latitud' at row 1\n",
      "Error Code: 1265\n",
      "SQLSTATE 01000\n",
      "Message Data truncated for column 'latitud' at row 1\n",
      "1265 (01000): Data truncated for column 'latitud' at row 1\n",
      "Error Code: 1265\n",
      "SQLSTATE 01000\n",
      "Message Data truncated for column 'latitud' at row 1\n",
      "1265 (01000): Data truncated for column 'latitud' at row 1\n",
      "Error Code: 1265\n",
      "SQLSTATE 01000\n",
      "Message Data truncated for column 'latitud' at row 1\n",
      "1265 (01000): Data truncated for column 'latitud' at row 1\n",
      "Error Code: 1265\n",
      "SQLSTATE 01000\n",
      "Message Data truncated for column 'latitud' at row 1\n"
     ]
    }
   ],
   "source": [
    "#insertamos los datos de dos columnas en la tabla clima\n",
    "\n",
    "for indice, fila in df.iterrows(): \n",
    "    \n",
    "    \n",
    "    query_clima = f\"\"\" INSERT INTO `clima` (`latitud`, `longitud`)         \n",
    "            VALUES ( \"{fila['latitud']}\", \"{fila['longitud']}\");\n",
    "            \"\"\"\n",
    "    \n",
    "    insertar_tabla(\"tiburones\", 'AlumnaAdalab', query_clima)"
   ]
  }
 ],
 "metadata": {
  "kernelspec": {
   "display_name": "Python 3",
   "language": "python",
   "name": "python3"
  },
  "language_info": {
   "codemirror_mode": {
    "name": "ipython",
    "version": 3
   },
   "file_extension": ".py",
   "mimetype": "text/x-python",
   "name": "python",
   "nbconvert_exporter": "python",
   "pygments_lexer": "ipython3",
   "version": "3.10.9"
  },
  "orig_nbformat": 4,
  "vscode": {
   "interpreter": {
    "hash": "74ce4e106c5f3fb5408a2b59926dbdd162e96cafe5f5c54fb66c999b373c7a81"
   }
  }
 },
 "nbformat": 4,
 "nbformat_minor": 2
}
